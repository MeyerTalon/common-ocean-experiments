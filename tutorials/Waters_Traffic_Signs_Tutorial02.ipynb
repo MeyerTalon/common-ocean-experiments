{
 "cells": [
  {
   "cell_type": "markdown",
   "id": "82f36db9",
   "metadata": {
    "pycharm": {
     "name": "#%% md\n"
    }
   },
   "source": [
    "# Tutorial 2: CommonOcean-io\n",
    "## Creating Waters, Waters Networks, Traffic Signs and Planning Problem Sets\n",
    "\n",
    "This tutorial shows how CommonOcean scenarios can be created from scratch with waterways, shallows, networks and traffic signs. At the end, we will use the basics from Tutorial 01 to create a **PlanningProblemSet** and save the scenario as a XML-file.\n",
    "Remembering that:\n",
    "\n",
    "* A **Scenario** represents the environment including a **WatersNetwork** and a set of **DynamicObstacle** and **StaticObstacle**.\n",
    "    * A **WatersNetwork** is built from waters segments (**Waterways** and **Shallows**), that can be connected.\n",
    "* A **PlanningProblemSet** contains one **PlanningProblem** for every ego vehicle in the **Scenario**, consisting of one **initial position** and a **GoalRegion** that has to be reached."
   ]
  },
  {
   "cell_type": "markdown",
   "id": "f3691fa4",
   "metadata": {
    "pycharm": {
     "name": "#%% md\n"
    }
   },
   "source": [
    "## 0. Preparation\n",
    "* Before you proceed any further, make sure you have skimmed through **CommonOcean API** to gain an overall view of the functionalities provided by CommonOcean modules. You may need to refer to it for implementation details throughout this tutorial.\n",
    "\n",
    "* As a strong recomendation, make sure you have passed through and mastered the first tutorial (**Tutorial 01**) regarding the structure of scenarios and how to read, modify and save them.\n",
    "\n",
    "* Additional documentations on **CommonOcean XML format, Cost Functions, Vessel Models, etc.** can be found at [CommonOcean](https://commonocean.cps.cit.tum.de) on the specific tool pages."
   ]
  },
  {
   "cell_type": "markdown",
   "id": "ba577aea",
   "metadata": {
    "pycharm": {
     "name": "#%% md\n"
    }
   },
   "source": [
    "## 1. Creating scenario\n",
    "\n",
    "Differently from what has been done in Tutorial 01, here we will deal with a scenario object, creating one from scratch in order to understand its structure. As documented in **Scenario**, to create a scenario object it is necessary to define a `dt` and a `benchmark_id` (can be seen as name of our scenario and needs to be in the specific format described in the documentation):"
   ]
  },
  {
   "cell_type": "code",
   "id": "c04f965d",
   "metadata": {
    "pycharm": {
     "name": "#%%\n"
    },
    "ExecuteTime": {
     "end_time": "2025-06-29T00:45:53.745365Z",
     "start_time": "2025-06-29T00:45:53.111917Z"
    }
   },
   "source": [
    "# Ignoring warnings for the educational purpose of this tutorial\n",
    "import warnings\n",
    "warnings.filterwarnings('ignore')\n",
    "\n",
    "from commonocean.scenario.scenario import Scenario\n",
    "\n",
    "dt = 1\n",
    "benchmark_id = \"ZAM_Tutorial-2_1_T-1\"\n",
    "scenario = Scenario(dt, benchmark_id)"
   ],
   "outputs": [],
   "execution_count": 1
  },
  {
   "cell_type": "markdown",
   "id": "9c29de68",
   "metadata": {
    "pycharm": {
     "name": "#%% md\n"
    }
   },
   "source": [
    "## 2. Adding waters\n",
    "\n",
    "Once the scenario object has been created (or opened via **CommonOceanFileReader**), it is possible to start adding CommonOcean objects to it, just as waterways, shallows, obstacles (as seen in the previous tutorial) and traffic signs. Let's first take a moment to investigate the insertion of `waterways`:"
   ]
  },
  {
   "cell_type": "code",
   "id": "7f8a00b6",
   "metadata": {
    "pycharm": {
     "name": "#%%\n"
    },
    "ExecuteTime": {
     "end_time": "2025-06-29T00:45:53.920653Z",
     "start_time": "2025-06-29T00:45:53.914190Z"
    }
   },
   "source": [
    "import numpy as np\n",
    "from commonocean.scenario.waters import Waterway, WatersType\n",
    "\n",
    "# Auxiliary variable to create the vertices of the Waterway\n",
    "waters_size = 1000\n",
    "\n",
    "left_vertices = np.array([[-waters_size/2, -waters_size/2], [-waters_size/2, 0.0], [-waters_size/2, waters_size/2]])\n",
    "right_vertices = np.array([[waters_size/2, -waters_size/2], [waters_size/2, 0.0], [waters_size/2, waters_size/2]])\n",
    "center_vertices =  np.array([[0.0, -waters_size/2], [0.0, 0.0], [0.0, waters_size/2]])\n",
    "\n",
    "waterway_id = scenario.generate_object_id() # Every object in our scenario needs an ID\n",
    "waterway = Waterway(left_vertices,center_vertices,right_vertices, waterway_id, WatersType.FAIRWAY)\n",
    "scenario.add_objects(waterway) #Waterway has the shape of a square with side 1000"
   ],
   "outputs": [],
   "execution_count": 2
  },
  {
   "cell_type": "markdown",
   "id": "5f3c3f43",
   "metadata": {
    "pycharm": {
     "name": "#%% md\n"
    }
   },
   "source": [
    "It is important to notice that, differently from obstacles (seen in the first tutorial) and traffic signs, `waters` (`waterways` and `shallows`) are not added to the scenario itself, but to a parameter of type `WatersNetwork`, created automatically with the scenario and intrinsic to it. However, the practical way of inserting it is the same, that is, using the `add_objects` method.\n",
    "\n",
    "Observation: It is possible to modify and deal directly with the WatersNetwork, but it is not recommended in most of the cases since the work to keep control of used IDs would be time consuming for the user and not automatic.\n",
    "\n",
    "Let's now create and add another `waters` (more especifically, to the `waters_network` of the scenario). As already mentioned, there are mainly two types of waters that can be inserted in a CommonOcean scenario:\n",
    "\n",
    "* **Waterway**: used to define navigable paths. This is the type that we used in the previous code cell and, as mentioned above, it was necessary to define the vertices, give an ID and give the type of the waterway via the `WatersType` class.\n",
    "\n",
    "* **Shallow**: used to define shallow paths, where some vessels cannot sail. It is necessary to define a geometry shape, give and ID to the object while creating it and, optionally, define the specific depth.\n",
    "\n",
    "In the next cell, a shallow is created and added to the `waters_network`."
   ]
  },
  {
   "cell_type": "code",
   "id": "553d6c11",
   "metadata": {
    "pycharm": {
     "name": "#%%\n"
    },
    "ExecuteTime": {
     "end_time": "2025-06-29T00:45:53.985644Z",
     "start_time": "2025-06-29T00:45:53.977858Z"
    }
   },
   "source": [
    "from commonocean.scenario.waters import Shallow\n",
    "from commonroad.geometry.shape import Polygon\n",
    "\n",
    "shallow_id = scenario.generate_object_id()\n",
    "shallow_polygon = Polygon(np.array([[500,-500],[500,500], [600, 500], [600,-500]]))\n",
    "# This shallow has shape of a rectangle in the right side of our waterway\n",
    "shallow = Shallow(shallow_polygon, shallow_id)\n",
    "scenario.add_objects(shallow)"
   ],
   "outputs": [],
   "execution_count": 3
  },
  {
   "cell_type": "markdown",
   "id": "0dae80e4",
   "metadata": {
    "pycharm": {
     "name": "#%% md\n"
    }
   },
   "source": [
    "## 3. Creating traffic signs\n",
    "\n",
    "Another important object in CommonOcean scenarios that needs to be understood is the `traffic_sign`. As the others objects, a traffic sign requires an ID, but, in addition, it is also necessary to define the `TrafficSignElement` that is used in the sign created. This element describes not only the type of the sign (through `TrafficSignElementID`) but also its value."
   ]
  },
  {
   "cell_type": "code",
   "id": "bb42f5f9",
   "metadata": {
    "pycharm": {
     "name": "#%%\n"
    },
    "ExecuteTime": {
     "end_time": "2025-06-29T00:45:54.038416Z",
     "start_time": "2025-06-29T00:45:54.031710Z"
    }
   },
   "source": [
    "from commonocean.scenario.traffic_sign import TrafficSign, TrafficSignElementID, TrafficSignElement\n",
    "\n",
    "traffic_sign_id = scenario.generate_object_id()\n",
    "traffic_sign_elements = [TrafficSignElement(TrafficSignElementID.LATERAL_MARK_RED_A, [\"Fl.R 5s\"])]\n",
    "position = np.array([0, -200])\n",
    "\n",
    "traffic_sign = TrafficSign(traffic_sign_id, traffic_sign_elements, position, virtual=False)\n",
    "scenario.add_objects(traffic_sign, waters_ids=[waterway_id])"
   ],
   "outputs": [],
   "execution_count": 4
  },
  {
   "cell_type": "markdown",
   "id": "dbabbd8c",
   "metadata": {
    "pycharm": {
     "name": "#%% md\n"
    }
   },
   "source": [
    "In the last line of code of the previous cell, it is possible to remark that adding a `traffic_sign` element to the scenario does not happen through a `waters_network`, but to the scenario itself with a `waters_id` which the sign is connected to.\n",
    "\n",
    "Another important detail of the `TrafficSign` class is that, when added to the scenario, a small obstacle will be created in the same position of the scenario as well, representing the physical structure of the support that is holding the sign. The attributes of this new obstacle can be directly modified through the use of the parameter `traffic_sign_parameters` while calling the `add_objects`."
   ]
  },
  {
   "cell_type": "markdown",
   "id": "1f75fb79",
   "metadata": {
    "pycharm": {
     "name": "#%% md\n"
    }
   },
   "source": [
    "## 4. Adding obstacles (Extra)\n",
    "\n",
    "As done in **Tutorial 01**, some obstacles can be added to our scenario if necessary. The next cell creates two static and two dynamic obstacles."
   ]
  },
  {
   "cell_type": "code",
   "id": "72618321",
   "metadata": {
    "pycharm": {
     "name": "#%%\n"
    },
    "ExecuteTime": {
     "end_time": "2025-06-29T00:45:54.124297Z",
     "start_time": "2025-06-29T00:45:54.095180Z"
    }
   },
   "source": [
    "from commonroad.geometry.shape import Circle, Rectangle\n",
    "from commonocean.scenario.trajectory import Trajectory\n",
    "from commonroad.scenario.state import CustomState\n",
    "\n",
    "from commonocean.scenario.obstacle import StaticObstacle, ObstacleType, DynamicObstacle\n",
    "from commonocean.prediction.prediction import TrajectoryPrediction\n",
    "\n",
    "\n",
    "# Creating static obstacles\n",
    "circ_1 = Circle(50)\n",
    "init_state_1 = CustomState(time_step=0, orientation=0, position=np.array([waters_size/4, waters_size/4]), velocity=0)\n",
    "static_obs_1 = StaticObstacle(scenario.generate_object_id(), ObstacleType.LAND, obstacle_shape=circ_1, initial_state=init_state_1)\n",
    "\n",
    "\n",
    "circ_2 = Circle(80)\n",
    "init_state_2 = CustomState(time_step=0, orientation=0, position=np.array([-waters_size/4, -waters_size/4]), velocity=0)\n",
    "static_obs_2 = StaticObstacle(scenario.generate_object_id(), ObstacleType.BUOY, obstacle_shape=circ_2, initial_state=init_state_2)\n",
    "\n",
    "# Adding created objects to Scenario\n",
    "scenario.add_objects([static_obs_1, static_obs_2])\n",
    "\n",
    "# Creating dynamic obstacles\n",
    "\n",
    "initial_positions_dynamic_obstacles = [np.array([-400,-400]), np.array([0,400])]\n",
    "goal_positions_dynamic_obstacles = [np.array([400,-400]), np.array([-400,0])]\n",
    "velocities_dynamic_obstacles = [5,5]\n",
    "length_dynamic_obstacles = [50,50]\n",
    "fraction_width_dynamic_obstacles = [2,2]\n",
    "\n",
    "\n",
    "for n in range(2):\n",
    "\n",
    "    initial_position_dynamic_obstacle = initial_positions_dynamic_obstacles[n]\n",
    "    goal_center_dynamic_obstacle = goal_positions_dynamic_obstacles[n]\n",
    "    velocity = velocities_dynamic_obstacles[n]\n",
    "    heading = np.sign((goal_center_dynamic_obstacle[1] - initial_position_dynamic_obstacle[1])) *np.arccos((goal_center_dynamic_obstacle[0] - initial_position_dynamic_obstacle[0])/np.linalg.norm(goal_center_dynamic_obstacle-initial_position_dynamic_obstacle))\n",
    "    dynamic_obstacle_initial_state = CustomState(**{'position': initial_position_dynamic_obstacle, 'orientation': heading, 'time_step': 0, 'velocity': velocity})\n",
    "    dynamic_obstacle_state_list = [dynamic_obstacle_initial_state]\n",
    "    t_max_dynamic_obstacle = (np.linalg.norm(goal_center_dynamic_obstacle-initial_position_dynamic_obstacle)) / velocity\n",
    "    t_end_dynamic_obstacle = int(t_max_dynamic_obstacle / dt)\n",
    "\n",
    "    for t_i in range(1,t_end_dynamic_obstacle):\n",
    "        # Computing new position\n",
    "        new_position = dynamic_obstacle_state_list[-1].position + \\\n",
    "                    np.array([dynamic_obstacle_state_list[-1].velocity * scenario.dt * np.cos(dynamic_obstacle_state_list[-1].orientation),\n",
    "                                dynamic_obstacle_state_list[-1].velocity * scenario.dt * np.sin(dynamic_obstacle_state_list[-1].orientation)])\n",
    "\n",
    "        # Adding new state to dynamic_obstacle_state_list\n",
    "        acceleration = 0\n",
    "        dynamic_obstacle_state_list.append(CustomState(**{'position': new_position, 'orientation': heading,'time_step': t_i, 'velocity': velocity, 'acceleration': acceleration}))\n",
    "\n",
    "    # Creating the predicted trajectory starting at time step 1\n",
    "    dynamic_obstacle_trajectory = Trajectory(initial_time_step=1, state_list=dynamic_obstacle_state_list[1:])\n",
    "\n",
    "    # Creating the prediction using the predicted trajectory and the shape of the obstacle\n",
    "    length = length_dynamic_obstacles[n]\n",
    "    dynamic_obstacle_shape = Rectangle(length=length, width=length/fraction_width_dynamic_obstacles[n])\n",
    "    dynamic_obstacle_prediction = TrajectoryPrediction(trajectory=dynamic_obstacle_trajectory,shape=dynamic_obstacle_shape)\n",
    "\n",
    "    # Generating the dynamic obstacle according to the specification\n",
    "    dynamic_obstacle_id = scenario.generate_object_id()\n",
    "    dynamic_obstacle_type = ObstacleType.MOTORVESSEL\n",
    "    dynamic_obstacle = DynamicObstacle(obstacle_id=dynamic_obstacle_id, obstacle_type=dynamic_obstacle_type,\n",
    "                                obstacle_shape=dynamic_obstacle_shape, initial_state=dynamic_obstacle_initial_state,\n",
    "                                prediction=dynamic_obstacle_prediction)\n",
    "\n",
    "    # Adding dynamic obstacle to the scenario\n",
    "    scenario.add_objects(dynamic_obstacle)"
   ],
   "outputs": [],
   "execution_count": 5
  },
  {
   "cell_type": "markdown",
   "id": "98be5358",
   "metadata": {
    "pycharm": {
     "name": "#%% md\n"
    }
   },
   "source": [
    "## 5. Defining planning problem\n",
    "\n",
    "As mentioned, every CommonOcean XML-file requires a planning problem for an ego vessel. To define it, it is necessary to have an `initial_state`, a `goal_state` and, of course, give the object an ID.\n",
    "\n",
    "Every state has a certain group of parameters that define themselves. As examples it is worth to mention the `position`, the `orientation`, the `time_step` and the `velocity`.\n",
    "\n",
    "The next cell creates the states, and then, the planning problem set."
   ]
  },
  {
   "cell_type": "code",
   "id": "436e9222",
   "metadata": {
    "pycharm": {
     "name": "#%%\n"
    },
    "ExecuteTime": {
     "end_time": "2025-06-29T00:45:54.168315Z",
     "start_time": "2025-06-29T00:45:54.155536Z"
    }
   },
   "source": [
    "from commonocean.planning.planning_problem import PlanningProblemSet, PlanningProblem\n",
    "from commonocean.planning.goal import GoalRegion\n",
    "from commonroad.common.util import Interval, AngleInterval\n",
    "\n",
    "initial_position = np.array([0, 0])\n",
    "goal_center = np.array([0, 200])\n",
    "\n",
    "velocity = 15\n",
    "t_delta_steps = 60\n",
    "length_goal_position = 100\n",
    "width_fraction_goal_position = 7\n",
    "\n",
    "# Creating the initial_state\n",
    "heading = np.arccos(np.absolute(goal_center[0] - initial_position[0])/np.linalg.norm(goal_center-initial_position))\n",
    "initial_state = CustomState(**{'position': initial_position, 'orientation': heading, 'time_step': 0, 'velocity': velocity, 'yaw_rate':0.0})\n",
    "\n",
    "# Creating the goal_state\n",
    "t_max = (np.linalg.norm(goal_center - initial_position)) / velocity\n",
    "t_end = int(t_max / dt)\n",
    "goal_time = Interval(**{'start': t_end-t_delta_steps, 'end': t_end+t_delta_steps})\n",
    "goal_position = Rectangle(**{'length': length_goal_position, 'width': length_goal_position/width_fraction_goal_position,'orientation': heading, 'center': goal_center})\n",
    "goal_orientation = AngleInterval(**{'start':heading-0.3, 'end': heading+0.3})\n",
    "goal_state = CustomState(**{'position': goal_position, 'orientation': goal_orientation, 'time_step': goal_time})\n",
    "goal_region = GoalRegion(**{'state_list': [goal_state], 'waters_of_goal_position': None})\n",
    "\n",
    "# Creating the planning problem set\n",
    "planning_problem_id = scenario.generate_object_id()\n",
    "planning_problem = PlanningProblem(planning_problem_id,initial_state,goal_region)\n",
    "planning_problem_set = PlanningProblemSet([planning_problem])"
   ],
   "outputs": [],
   "execution_count": 6
  },
  {
   "cell_type": "markdown",
   "id": "7cfca14f",
   "metadata": {
    "pycharm": {
     "name": "#%% md\n"
    }
   },
   "source": [
    "## 6. Writing XML file\n",
    "\n",
    "After we have created the entire scenario, we would like to save the changes and write the **Scenario** and **PlanningProblemSet** to a CommonOcean XML file. As shown in **Tutorial 01**, **CommonOceanFileWriter** helps us with this purpose."
   ]
  },
  {
   "cell_type": "code",
   "id": "27dba184",
   "metadata": {
    "pycharm": {
     "name": "#%%\n"
    },
    "ExecuteTime": {
     "end_time": "2025-06-29T00:45:54.328716Z",
     "start_time": "2025-06-29T00:45:54.280826Z"
    }
   },
   "source": [
    "from commonocean.scenario.scenario import Tag\n",
    "from commonocean.common.file_writer import CommonOceanFileWriter, OverwriteExistingFile\n",
    "\n",
    "author = 'John Doe'\n",
    "affiliation = 'Technical University of Munich, Germany'\n",
    "source = 'Hand-crafted Scenario'\n",
    "tags = {Tag.CRITICAL}\n",
    "fw = CommonOceanFileWriter(scenario, planning_problem_set, author, affiliation, source, tags)\n",
    "filename = 'CommonOcean_Tutorial02.xml'\n",
    "fw.write_to_file(filename, OverwriteExistingFile.ALWAYS)"
   ],
   "outputs": [
    {
     "name": "stdout",
     "output_type": "stream",
     "text": [
      "Replace file CommonOcean_Tutorial02.xml\n"
     ]
    }
   ],
   "execution_count": 7
  },
  {
   "cell_type": "markdown",
   "id": "f6255b3b",
   "metadata": {
    "pycharm": {
     "name": "#%% md\n"
    }
   },
   "source": [
    "We can now open our created file to check how our scenario looks like:"
   ]
  },
  {
   "cell_type": "code",
   "id": "e574d39c",
   "metadata": {
    "pycharm": {
     "name": "#%%\n"
    },
    "ExecuteTime": {
     "end_time": "2025-06-29T00:45:55.889129Z",
     "start_time": "2025-06-29T00:45:54.471654Z"
    }
   },
   "source": [
    "from commonocean.common.file_reader import CommonOceanFileReader\n",
    "from commonocean.visualization.draw_dispatch_cr import draw_object\n",
    "import matplotlib.pyplot as plt\n",
    "\n",
    "scenario, planning_problem_set = CommonOceanFileReader(filename).open()\n",
    "\n",
    "# Plotting Scenario in frames 0, 50, 100 and 150\n",
    "frames = [0, 50, 100, 150]\n",
    "for frame in frames:\n",
    "    draw_object(scenario, draw_params={'time_begin': frame, 'trajectory_steps': 0})\n",
    "    draw_object(planning_problem_set, draw_params={'time_begin': frame})\n",
    "    plt.gca().set_aspect('equal')\n",
    "    plt.show()"
   ],
   "outputs": [
    {
     "data": {
      "text/plain": [
       "<Figure size 640x480 with 1 Axes>"
      ],
      "image/png": "[encoded data removed]"
     },
     "metadata": {},
     "output_type": "display_data"
    },
    {
     "data": {
      "text/plain": [
       "<Figure size 640x480 with 1 Axes>"
      ],
      "image/png": "[encoded data removed]"
     },
     "metadata": {},
     "output_type": "display_data"
    },
    {
     "data": {
      "text/plain": [
       "<Figure size 640x480 with 1 Axes>"
      ],
      "image/png": "[encoded data removed]"
     },
     "metadata": {},
     "output_type": "display_data"
    },
    {
     "data": {
      "text/plain": [
       "<Figure size 640x480 with 1 Axes>"
      ],
      "image/png": "[encoded data removed]"
     },
     "metadata": {},
     "output_type": "display_data"
    }
   ],
   "execution_count": 8
  }
 ],
 "metadata": {
  "kernelspec": {
   "display_name": "Python 3 (ipykernel)",
   "language": "python",
   "name": "python3"
  },
  "language_info": {
   "codemirror_mode": {
    "name": "ipython",
    "version": 3
   },
   "file_extension": ".py",
   "mimetype": "text/x-python",
   "name": "python",
   "nbconvert_exporter": "python",
   "pygments_lexer": "ipython3",
   "version": "3.8.19"
  },
  "vscode": {
   "interpreter": {
    "hash": "31f2aee4e71d21fbe5cf8b01ff0e069b9275f58929596ceb00d14d90e3e16cd6"
   }
  }
 },
 "nbformat": 4,
 "nbformat_minor": 5
}
